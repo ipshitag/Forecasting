{
 "cells": [
  {
   "cell_type": "markdown",
   "metadata": {},
   "source": [
    "Importing libraries"
   ]
  },
  {
   "cell_type": "code",
   "execution_count": 282,
   "metadata": {},
   "outputs": [],
   "source": [
    "import pandas as pd\n",
    "import numpy as np\n",
    "import matplotlib.pyplot as plt"
   ]
  },
  {
   "cell_type": "markdown",
   "metadata": {},
   "source": [
    "## Q1\n",
    "### Load the CSV file we provide into Python IDE using read_csv loading the file"
   ]
  },
  {
   "cell_type": "code",
   "execution_count": 283,
   "metadata": {},
   "outputs": [],
   "source": [
    "# pylint: disable=E1101\n",
    "data = pd.read_csv(r'C:\\\\Users\\\\Dell\\\\Desktop\\\\prices(1).csv')"
   ]
  },
  {
   "cell_type": "markdown",
   "metadata": {},
   "source": [
    "## Q2\n",
    "### Only keep the time series data for three tickers (AAPL, ABBV and ABC) and filter out the data of all the other tickers"
   ]
  },
  {
   "cell_type": "code",
   "execution_count": 284,
   "metadata": {},
   "outputs": [],
   "source": [
    "#using .query from pandas to filter out data\n",
    "data.query('ticker==\"AAPL\" or ticker == \"ABBV\" or ticker == \"ABC\"',inplace=True )"
   ]
  },
  {
   "cell_type": "markdown",
   "metadata": {},
   "source": [
    "## Q3\n",
    "### Assign “NA” value if the value of “close price” field is great than 10000 or less than 0"
   ]
  },
  {
   "cell_type": "code",
   "execution_count": 285,
   "metadata": {},
   "outputs": [],
   "source": [
    "data['close price'] = data['close price'].apply(lambda x: np.nan if x>10000 or x<0 else x)"
   ]
  },
  {
   "cell_type": "markdown",
   "metadata": {},
   "source": [
    "## Q4\n",
    "### For each ticker, replace all the missing data in the dataset (also include the “NA” value from step 2) with the last valid"
   ]
  },
  {
   "cell_type": "code",
   "execution_count": 286,
   "metadata": {},
   "outputs": [],
   "source": [
    "data.ffill(inplace=True)"
   ]
  },
  {
   "cell_type": "markdown",
   "metadata": {},
   "source": [
    "## Q5\n",
    "### Export a 4-column CSV file with the following format: column 1: Date, column 2: close price of AAPL, column 3: close price of ABBV; column 4: close price of ABC"
   ]
  },
  {
   "cell_type": "code",
   "execution_count": 287,
   "metadata": {},
   "outputs": [],
   "source": [
    "#getting the unique dates from the table\n",
    "df = pd.DataFrame(data=data.date.unique())\n",
    "\n",
    "#extracting aapl ticker\n",
    "aapl = data[data['ticker']=='AAPL']['close price'].tolist()\n",
    "df['AAPL'] = aapl\n",
    "\n",
    "#extracting abbv ticker\n",
    "abbv = data[data['ticker']=='ABBV']['close price'].tolist()\n",
    "df['ABBV'] = abbv\n",
    "\n",
    "#extracting abc ticker\n",
    "abc = data[data['ticker']=='ABC']['close price'].tolist()\n",
    "df['ABC'] = abc\n",
    "\n",
    "#renaming the 0th named column\n",
    "df.rename(columns = {0:'Date'}, inplace = True)\n",
    "\n",
    "#converting to csv\n",
    "subset_stock_csv = df.to_csv()"
   ]
  },
  {
   "cell_type": "markdown",
   "metadata": {},
   "source": [
    "## Q6\n",
    "### Use “close price” at the month end (i.e., the last business day of each month) to calculate the monthly return for each stocks, e.g:\n",
    "$the\\ monthly\\ return\\ of\\ July\\ 2016 = \\frac{close\\ price\\ of\\ last\\ business\\ day\\ of\\ July\\ 2016 - \\ close\\ price\\ of\\ last\\ business\\ day\\ of\\ June\\ 2016}{close\\ price\\ of\\ last\\ business\\ day\\ of\\ June}$"
   ]
  },
  {
   "cell_type": "code",
   "execution_count": 288,
   "metadata": {},
   "outputs": [
    {
     "name": "stderr",
     "output_type": "stream",
     "text": [
      "C:\\Users\\Dell\\Anaconda3\\lib\\site-packages\\ipykernel_launcher.py:48: FutureWarning: Addition/subtraction of integers and integer-arrays to Timestamp is deprecated, will be removed in a future version.  Instead of adding/subtracting `n`, use `n * self.freq`\n",
      "C:\\Users\\Dell\\Anaconda3\\lib\\site-packages\\ipykernel_launcher.py:49: FutureWarning: Addition/subtraction of integers and integer-arrays to Timestamp is deprecated, will be removed in a future version.  Instead of adding/subtracting `n`, use `n * self.freq`\n",
      "C:\\Users\\Dell\\Anaconda3\\lib\\site-packages\\ipykernel_launcher.py:50: FutureWarning: Addition/subtraction of integers and integer-arrays to Timestamp is deprecated, will be removed in a future version.  Instead of adding/subtracting `n`, use `n * self.freq`\n"
     ]
    }
   ],
   "source": [
    "#defining a function that will return the name of the month, given a number\n",
    "def month_name(x):\n",
    "    if x==1:\n",
    "        return \"January\"\n",
    "    elif x == 2:\n",
    "        return \"February\"\n",
    "    elif x == 3:\n",
    "        return \"March\"\n",
    "    elif x == 4:\n",
    "        return \"April\"\n",
    "    elif x == 5:\n",
    "        return \"May\"\n",
    "    elif x == 6:\n",
    "        return \"June\"\n",
    "    elif x == 7:\n",
    "        return \"July\"\n",
    "    elif x == 8:\n",
    "        return \"August\"\n",
    "    elif x == 9:\n",
    "        return \"September\"\n",
    "    elif x == 10:\n",
    "        return \"October\"\n",
    "    elif x == 11:\n",
    "        return \"November\"\n",
    "    elif x == 12:\n",
    "        return \"December\"\n",
    "\n",
    "#making the dataframe into time series\n",
    "df.index = pd.to_datetime(df['Date'])\n",
    "\n",
    "#making the frequency og the grouper as month\n",
    "df_eom = df.groupby(pd.Grouper(freq='1M')).last()\n",
    "\n",
    "#getting the month from the index\n",
    "df_eom['Date'] = pd.DatetimeIndex(df_eom['Date']).month\n",
    "\n",
    "#applying the fucntion defined above to convert the number into month name\n",
    "df_eom[\"Date\"] = df_eom[\"Date\"].apply(month_name)\n",
    "\n",
    "#keeping the first row, since it will not be included in the calculation\n",
    "aapl = [df_eom.loc['2015-06-30','AAPL']]\n",
    "abbv = [df_eom.loc['2015-06-30','ABBV']]\n",
    "abc = [df_eom.loc['2015-06-30','ABC']]\n",
    "\n",
    "#looping the data frame leaving out the first row\n",
    "#followed by the implementation of the formula given\n",
    "for i in df_eom['Date'].index[1:]:\n",
    "    aapl.append((df_eom.loc[i,'AAPL'] - df_eom.loc[i-1,'AAPL'])/df_eom.loc[i,'AAPL'])\n",
    "    abbv.append((df_eom.loc[i,'ABBV'] - df_eom.loc[i-1,'ABBV'])/df_eom.loc[i,'ABBV'])\n",
    "    abc.append((df_eom.loc[i,'ABC'] - df_eom.loc[i-1,'ABC'])/df_eom.loc[i,'ABC'])\n",
    "\n",
    "#creating the dataframe\n",
    "close_df = pd.DataFrame()\n",
    "close_df['Date'] = df_eom[\"Date\"].tolist()\n",
    "close_df['AAPL'] = aapl\n",
    "close_df['ABBV'] = abbv\n",
    "close_df['ABC'] = abc\n",
    "\n",
    "#dropping the first row, as it may create problems in the calculation\n",
    "#since its values are significantly different to others\n",
    "close_df = close_df.iloc[1: , :]"
   ]
  },
  {
   "cell_type": "markdown",
   "metadata": {},
   "source": [
    "## Q7\n",
    "### Calculate:\n",
    "- the cumulative return of the portfolio (either arithmetic or geometric) \n",
    "- calculate the (geometric) mean of monthly return and monthly volatility\n",
    "- calculate the maximum drawdown for the whole time history"
   ]
  },
  {
   "cell_type": "code",
   "execution_count": 289,
   "metadata": {},
   "outputs": [],
   "source": [
    "#calculate the cumulative return of the portfolio\n",
    "portfolio_return = close_df.sum(axis=1)\n",
    "cumulative_return = (portfolio_return + 1).cumprod()\n",
    "\n",
    "#calculate the (geometric) mean of monthly return\n",
    "geometric_return = np.prod(portfolio_return + 1) ** (close_df.shape[0]/portfolio_return.shape[0]) - 1\n",
    "\n",
    "#calculate the montly volatility\n",
    "annual_std = np.std(portfolio_return) * np.sqrt(close_df.shape[0])\n",
    "\n",
    "#calculate the maximum drawdown for the whole time history \n",
    "drawdown =  1 - cumulative_return.div(cumulative_return.cummax())"
   ]
  },
  {
   "cell_type": "markdown",
   "metadata": {},
   "source": [
    "## Q8\n",
    "### Plot the time series of cumulative return for the three tickers and also calculate the 3x3 covariance matrix for monthly return series for the three tickers"
   ]
  },
  {
   "cell_type": "code",
   "execution_count": 290,
   "metadata": {},
   "outputs": [
    {
     "data": {
      "image/png": "[encoded data removed]",
      "text/plain": [
       "<Figure size 432x288 with 1 Axes>"
      ]
     },
     "metadata": {
      "needs_background": "light"
     },
     "output_type": "display_data"
    }
   ],
   "source": [
    "#using the pyplot to make the plot\n",
    "fig = plt.figure()\n",
    "ax1 = fig.add_axes([0.1,0.1,0.8,0.8])\n",
    "ax1.plot(cumulative_return)\n",
    "ax1.set_xlabel('Date')\n",
    "ax1.set_ylabel(\"Cumulative Returns\")\n",
    "ax1.set_title(\"Portfolio Cumulative Returns\")\n",
    "plt.show();"
   ]
  },
  {
   "cell_type": "code",
   "execution_count": 291,
   "metadata": {},
   "outputs": [
    {
     "name": "stdout",
     "output_type": "stream",
     "text": [
      "[[5.18245482e-03 1.16340300e-03 7.48921802e-05]\n",
      " [1.16340300e-03 4.97509029e-03 2.95818262e-03]\n",
      " [7.48921802e-05 2.95818262e-03 5.14931839e-03]]\n"
     ]
    }
   ],
   "source": [
    "#making three lists, and converting them into an array to get the covariance matrix\n",
    "aapl = close_df['AAPL'].tolist()\n",
    "abbv = close_df['ABBV'].tolist()\n",
    "abc = close_df['ABC'].tolist()\n",
    "\n",
    "datal = np.array([aapl,abbv,abc])\n",
    "covMatrix = np.cov(datal,bias=True)\n",
    "print (covMatrix)"
   ]
  }
 ],
 "metadata": {
  "kernelspec": {
   "display_name": "Python 3",
   "language": "python",
   "name": "python3"
  },
  "language_info": {
   "codemirror_mode": {
    "name": "ipython",
    "version": 3
   },
   "file_extension": ".py",
   "mimetype": "text/x-python",
   "name": "python",
   "nbconvert_exporter": "python",
   "pygments_lexer": "ipython3",
   "version": "3.7.3"
  }
 },
 "nbformat": 4,
 "nbformat_minor": 2
}
